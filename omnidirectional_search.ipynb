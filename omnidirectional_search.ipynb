{
 "cells": [
  {
   "cell_type": "code",
   "execution_count": 160,
   "metadata": {},
   "outputs": [],
   "source": [
    "import networkx as nx\n",
    "import numpy as np\n",
    "import heapq\n",
    "import unittest\n",
    "from collections import deque\n",
    "import matplotlib.pyplot as plt\n",
    "from queue import Queue"
   ]
  },
  {
   "cell_type": "code",
   "execution_count": 161,
   "metadata": {},
   "outputs": [],
   "source": [
    "# Graph from previous assignments\n",
    "graph = dict(\n",
    "    chi=dict(det=283, cle=345, ind=182),\n",
    "    cle=dict(chi=345, det=169, col=144, pit=134, buf=189),\n",
    "    ind=dict(chi=182, col=176),\n",
    "    col=dict(ind=176, cle=144, pit=185),\n",
    "    det=dict(chi=283, cle=169, buf=256),\n",
    "    buf=dict(det=256, cle=189, pit=215, syr=150),\n",
    "    pit=dict(col=185, cle=134, buf=215, phi=305, bal=247),\n",
    "    syr=dict(buf=150, phi=253, new=254, bos=312),\n",
    "    bal=dict(phi=101, pit=247),\n",
    "    phi=dict(pit=305, bal=101, syr=253, new=97),\n",
    "    new=dict(syr=254, phi=97, bos=215, pro=181),\n",
    "    pro=dict(bos=50, new=181),\n",
    "    bos=dict(pro=50, new=215, syr=312, por=107),\n",
    "    por=dict(bos=107))"
   ]
  },
  {
   "cell_type": "code",
   "execution_count": 162,
   "metadata": {},
   "outputs": [],
   "source": [
    "# find distance from source to all other positions in graph, which in this case is the same\n",
    "# as the distances from every position to the source\n",
    "\n",
    "def dijkstra(source, graph):\n",
    "    if source not in graph:\n",
    "        return None\n",
    "    visited = set()\n",
    "    cost_path = {n: float(\"inf\") for n in graph}\n",
    "    cost_path[source] = (0)\n",
    "    while len(visited) != len(graph):\n",
    "        min_node = None\n",
    "        min_val = float(\"inf\")\n",
    "        for n in cost_path:\n",
    "            if n not in visited:\n",
    "                if cost_path[n] < min_val:\n",
    "                    min_node = n\n",
    "        visited.add(min_node)\n",
    "        for n in graph[min_node]:\n",
    "            if n not in visited:\n",
    "                if cost_path[min_node] + graph[min_node][n] < cost_path[n]:\n",
    "                    cost_path[n] = (cost_path[min_node] + graph[min_node][n])\n",
    "    return cost_path\n"
   ]
  },
  {
   "cell_type": "code",
   "execution_count": 163,
   "metadata": {},
   "outputs": [],
   "source": [
    "# Approach 1: Find the node with the short summed cost from every source node. This approach IS guaranteed to find\n",
    "# the optimal meeting point, defined as the point that would required the least total travel from all sources, for\n",
    "# any number of sources (N) in a weighted, connected graph. Note that it expands a full SSSP from every source node.\n",
    "\n",
    "def meetSum(sources, graph):\n",
    "    # find distance from sources to all points\n",
    "    dists_to_sources = [dijkstra(source, graph) for source in sources]\n",
    "    \n",
    "    # sum distances from all sources to every node\n",
    "    total_dists = {g: 0 for g in graph}\n",
    "    for dist_dict in dists_to_sources:\n",
    "        for k in dist_dict:\n",
    "            total_dists[k] += dist_dict[k] \n",
    "            \n",
    "    # choose the node with minimum distance\n",
    "    meet_point = min(total_dists, key=total_dists.get)\n",
    "    print(\"\\nMeeting point: \" + meet_point)\n",
    "    for i, source in enumerate(sources):\n",
    "        print(\"Distance from %s: %d\" % (source, dists_to_sources[i][meet_point]))\n",
    "    print(\"Total distance traveled:\", total_dists[meet_point])\n",
    "    return (meet_point, total_dists[meet_point])"
   ]
  },
  {
   "cell_type": "code",
   "execution_count": 164,
   "metadata": {},
   "outputs": [
    {
     "name": "stdout",
     "output_type": "stream",
     "text": [
      "\n",
      "Meeting point: cle\n",
      "Distance from det: 169\n",
      "Distance from col: 144\n",
      "Distance from syr: 339\n",
      "Distance from phi: 439\n",
      "Total distance traveled: 1091\n",
      "\n",
      "Meeting point: syr\n",
      "Distance from det: 406\n",
      "Distance from syr: 0\n",
      "Distance from phi: 253\n",
      "Total distance traveled: 659\n",
      "\n",
      "Meeting point: syr\n",
      "Distance from det: 406\n",
      "Distance from syr: 0\n",
      "Distance from phi: 253\n",
      "Distance from por: 419\n",
      "Distance from bos: 312\n",
      "Total distance traveled: 1390\n",
      "\n",
      "Meeting point: bos\n",
      "Distance from chi: 1001\n",
      "Distance from phi: 312\n",
      "Distance from por: 107\n",
      "Distance from bos: 0\n",
      "Total distance traveled: 1420\n"
     ]
    },
    {
     "data": {
      "text/plain": [
       "('bos', 1420)"
      ]
     },
     "execution_count": 164,
     "metadata": {},
     "output_type": "execute_result"
    }
   ],
   "source": [
    "meetSum([\"det\", \"col\", \"syr\", \"phi\"], graph)\n",
    "meetSum([\"det\", \"syr\", \"phi\"], graph)\n",
    "meetSum([\"det\", \"syr\", \"phi\", \"por\", \"bos\"], graph)\n",
    "meetSum([\"chi\", \"phi\", \"por\", \"bos\"], graph)"
   ]
  },
  {
   "cell_type": "code",
   "execution_count": 165,
   "metadata": {},
   "outputs": [],
   "source": [
    "# Approach 2: BFS from every source node, terminating when paths from all sources collide. This will find the optimal\n",
    "# meeting point on unweighted (or unit edge) graphs ONLY. It is NOT guaranteed to find the optimal meeting point on \n",
    "# weighted graphs, though it may in some instances.\n",
    "\n",
    "def meetBFS(sources, graph):\n",
    "    frontiers = {}\n",
    "    paths = {}\n",
    "    for source in sources:\n",
    "        frontiers[source] = Queue()\n",
    "        frontiers[source].put(source)\n",
    "        paths[source] = {source: (0, [source])}\n",
    "        \n",
    "    while any(frontiers.values()):\n",
    "        for source in frontiers.keys():\n",
    "            node = frontiers[source].get()\n",
    "            found = True\n",
    "            for k_path in paths.keys():\n",
    "                if k_path != source and node not in paths[k_path]:\n",
    "                    found = False\n",
    "            if found:\n",
    "                print(\"\\nMeeting point:\", node)\n",
    "                total = 0\n",
    "                for s in paths.keys():\n",
    "                    print(\"Path from %s to %s: \" % (s, node), paths[s][node])\n",
    "                    total += paths[s][node][0]\n",
    "                print(\"Total distance traveled:\", total)\n",
    "                return node\n",
    "            else:\n",
    "                for n in graph[node]:\n",
    "                    if n not in paths[source]:\n",
    "                        paths[source][n] = (paths[source][node][0] + graph[node][n], paths[source][node][1] + [n])\n",
    "                        frontiers[source].put(n)\n",
    "                        \n",
    "        for key in [k for k in frontiers.keys()]:\n",
    "            if frontiers[key].empty():\n",
    "                frontiers.pop(key)\n",
    "    return None   \n",
    "    "
   ]
  },
  {
   "cell_type": "code",
   "execution_count": 166,
   "metadata": {},
   "outputs": [
    {
     "name": "stdout",
     "output_type": "stream",
     "text": [
      "\n",
      "Meeting point: cle\n",
      "Path from det to cle:  (169, ['det', 'cle'])\n",
      "Path from col to cle:  (144, ['col', 'cle'])\n",
      "Path from syr to cle:  (339, ['syr', 'buf', 'cle'])\n",
      "Path from phi to cle:  (439, ['phi', 'pit', 'cle'])\n",
      "Total distance traveled: 1091\n",
      "\n",
      "Meeting point: cle\n",
      "Path from det to cle:  (169, ['det', 'cle'])\n",
      "Path from syr to cle:  (339, ['syr', 'buf', 'cle'])\n",
      "Path from phi to cle:  (439, ['phi', 'pit', 'cle'])\n",
      "Total distance traveled: 947\n",
      "\n",
      "Meeting point: syr\n",
      "Path from det to syr:  (406, ['det', 'buf', 'syr'])\n",
      "Path from syr to syr:  (0, ['syr'])\n",
      "Path from phi to syr:  (253, ['phi', 'syr'])\n",
      "Path from por to syr:  (419, ['por', 'bos', 'syr'])\n",
      "Path from bos to syr:  (312, ['bos', 'syr'])\n",
      "Total distance traveled: 1390\n",
      "\n",
      "Meeting point: syr\n",
      "Path from chi to syr:  (689, ['chi', 'det', 'buf', 'syr'])\n",
      "Path from phi to syr:  (253, ['phi', 'syr'])\n",
      "Path from por to syr:  (419, ['por', 'bos', 'syr'])\n",
      "Path from bos to syr:  (312, ['bos', 'syr'])\n",
      "Total distance traveled: 1673\n"
     ]
    },
    {
     "data": {
      "text/plain": [
       "'syr'"
      ]
     },
     "execution_count": 166,
     "metadata": {},
     "output_type": "execute_result"
    }
   ],
   "source": [
    "meetBFS([\"det\", \"col\", \"syr\", \"phi\"], graph)\n",
    "meetBFS([\"det\", \"syr\", \"phi\"], graph)\n",
    "meetBFS([\"det\", \"syr\", \"phi\", \"por\", \"bos\"], graph)\n",
    "meetBFS([\"chi\", \"phi\", \"por\", \"bos\"], graph)"
   ]
  },
  {
   "cell_type": "code",
   "execution_count": 170,
   "metadata": {},
   "outputs": [],
   "source": [
    "# Approach 2: Dijkstra from every source node, terminating when paths from all sources collide. Again, this is \n",
    "# NOT guaranteed to find the optimal meeting point, though it can in some instances.\n",
    "\n",
    "def meetDijkstra(sources, graph):\n",
    "    visited = {}\n",
    "    costs = {}\n",
    "    paths = {}\n",
    "    for source in sources:\n",
    "        visited[source] = set()\n",
    "        costs[source] = {n: float(\"inf\") for n in graph}\n",
    "        costs[source][source] = 0\n",
    "        paths[source] = {source: [source]}\n",
    "    while (True):\n",
    "        for source in sources:\n",
    "            min_node = None\n",
    "            min_val = float(\"inf\")\n",
    "            for n in costs[source]:\n",
    "                if n not in visited[source]:\n",
    "                    if costs[source][n] < min_val:\n",
    "                        min_node = n\n",
    "            visited[source].add(min_node)\n",
    "            found = True\n",
    "            for k in sources:\n",
    "                if k != source and min_node not in visited[k]:\n",
    "                    found = False\n",
    "            if found:\n",
    "                total = 0\n",
    "                print(\"\\nMeeting Point:\", min_node)\n",
    "                for s in paths.keys():\n",
    "                    print(\"Path from %s to %s: \" % (s, min_node), (costs[s][min_node], paths[s][min_node]))\n",
    "                    total += costs[s][min_node]\n",
    "                print(\"Total distance traveled:\", total)\n",
    "                return min_node\n",
    "            for n in graph[min_node]:\n",
    "                if n not in visited[source]:\n",
    "                    if costs[source][min_node] + graph[min_node][n] < costs[source][n]:\n",
    "                        costs[source][n] = (costs[source][min_node] + graph[min_node][n])\n",
    "                        paths[source][n] = paths[source][min_node] + [n]\n",
    "            \n",
    "    "
   ]
  },
  {
   "cell_type": "code",
   "execution_count": 173,
   "metadata": {},
   "outputs": [
    {
     "name": "stdout",
     "output_type": "stream",
     "text": [
      "\n",
      "Meeting Point: bos\n",
      "Path from det to bos:  (718, ['det', 'buf', 'syr', 'bos'])\n",
      "Path from col to bos:  (802, ['col', 'pit', 'phi', 'new', 'bos'])\n",
      "Path from syr to bos:  (312, ['syr', 'bos'])\n",
      "Path from phi to bos:  (312, ['phi', 'new', 'bos'])\n",
      "Total distance traveled: 2144\n",
      "\n",
      "Meeting Point: bos\n",
      "Path from det to bos:  (718, ['det', 'buf', 'syr', 'bos'])\n",
      "Path from syr to bos:  (312, ['syr', 'bos'])\n",
      "Path from phi to bos:  (312, ['phi', 'new', 'bos'])\n",
      "Total distance traveled: 1342\n",
      "\n",
      "Meeting Point: bos\n",
      "Path from det to bos:  (718, ['det', 'buf', 'syr', 'bos'])\n",
      "Path from syr to bos:  (312, ['syr', 'bos'])\n",
      "Path from phi to bos:  (312, ['phi', 'new', 'bos'])\n",
      "Path from por to bos:  (107, ['por', 'bos'])\n",
      "Path from bos to bos:  (0, ['bos'])\n",
      "Total distance traveled: 1449\n",
      "\n",
      "Meeting Point: bos\n",
      "Path from chi to bos:  (1001, ['chi', 'det', 'buf', 'syr', 'bos'])\n",
      "Path from phi to bos:  (312, ['phi', 'new', 'bos'])\n",
      "Path from por to bos:  (107, ['por', 'bos'])\n",
      "Path from bos to bos:  (0, ['bos'])\n",
      "Total distance traveled: 1420\n"
     ]
    },
    {
     "data": {
      "text/plain": [
       "'bos'"
      ]
     },
     "execution_count": 173,
     "metadata": {},
     "output_type": "execute_result"
    }
   ],
   "source": [
    "meetDijkstra([\"det\", \"col\", \"syr\", \"phi\"], graph)\n",
    "meetDijkstra([\"det\", \"syr\", \"phi\"], graph)\n",
    "meetDijkstra([\"det\", \"syr\", \"phi\", \"por\", \"bos\"], graph)\n",
    "meetDijkstra([\"chi\", \"phi\", \"por\", \"bos\"], graph)"
   ]
  },
  {
   "cell_type": "code",
   "execution_count": null,
   "metadata": {},
   "outputs": [],
   "source": [
    "# New idea: Omnidirectional A* Search, terminating when paths from all sources collide, that IS guaranteed to find \n",
    "# the optimal meeting point, defined as the point that would required the least total travel from all sources, for \n",
    "# any number (N) source nodes in a weighted, connected graph, without necessarily determining the SSSP from all \n",
    "# source node."
   ]
  }
 ],
 "metadata": {
  "kernelspec": {
   "display_name": "Python 3",
   "language": "python",
   "name": "python3"
  },
  "language_info": {
   "codemirror_mode": {
    "name": "ipython",
    "version": 3
   },
   "file_extension": ".py",
   "mimetype": "text/x-python",
   "name": "python",
   "nbconvert_exporter": "python",
   "pygments_lexer": "ipython3",
   "version": "3.6.6"
  }
 },
 "nbformat": 4,
 "nbformat_minor": 2
}
